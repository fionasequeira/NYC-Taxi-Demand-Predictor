{
 "cells": [
  {
   "cell_type": "markdown",
   "metadata": {},
   "source": [
    "# Import necessary stuff"
   ]
  },
  {
   "cell_type": "code",
   "execution_count": null,
   "metadata": {
    "collapsed": true
   },
   "outputs": [],
   "source": [
    "import requests\n",
    "import pandas as pd"
   ]
  },
  {
   "cell_type": "markdown",
   "metadata": {},
   "source": [
    "# Authentication"
   ]
  },
  {
   "cell_type": "markdown",
   "metadata": {},
   "source": [
    "Note: Authentication is not required for Event search."
   ]
  },
  {
   "cell_type": "raw",
   "metadata": {},
   "source": [
    "# Authentication Data has to be filled\n",
    "Application_Key = ''\n",
    "oauth_consumer_key = ''\n",
    "oauth_token_secret = ''"
   ]
  },
  {
   "cell_type": "code",
   "execution_count": null,
   "metadata": {
    "collapsed": true
   },
   "outputs": [],
   "source": [
    "# url = 'http://eventful.com/oauth/request_token'\n",
    "# r = requests.post(url,params = {oauth_consumer_key,oauth_token_secret})"
   ]
  },
  {
   "cell_type": "code",
   "execution_count": null,
   "metadata": {
    "collapsed": true
   },
   "outputs": [],
   "source": [
    "# print (access_token)"
   ]
  },
  {
   "cell_type": "code",
   "execution_count": null,
   "metadata": {
    "collapsed": true
   },
   "outputs": [],
   "source": [
    "# Generated App key\n",
    "app_key = ''"
   ]
  },
  {
   "cell_type": "markdown",
   "metadata": {},
   "source": [
    "# Example Events Call"
   ]
  },
  {
   "cell_type": "code",
   "execution_count": null,
   "metadata": {
    "collapsed": true
   },
   "outputs": [],
   "source": [
    "url = 'http://api.eventful.com/json/events/search?location=New+York&app_key=' + app_key + '&page_size=250&date=past&page_number=101'\n",
    "data = requests.get(url)"
   ]
  },
  {
   "cell_type": "code",
   "execution_count": null,
   "metadata": {
    "collapsed": true
   },
   "outputs": [],
   "source": [
    "for event in (data.json()['events']['event']):\n",
    "    print (event.keys())\n",
    "    break"
   ]
  },
  {
   "cell_type": "code",
   "execution_count": null,
   "metadata": {
    "collapsed": true
   },
   "outputs": [],
   "source": [
    "# The columns were extracted using df.columns on the next line. Saved for future reference.\n",
    "columns = (['watching_count', 'olson_path', 'calendar_count', 'comment_count', 'region_abbr', 'postal_code',\n",
    "            'going_count', 'all_day', 'latitude', 'groups', 'url', 'id', 'privacy', 'city_name', 'link_count',\n",
    "            'longitude', 'country_name', 'country_abbr', 'region_name', 'start_time', 'tz_id', 'description',\n",
    "            'modified', 'venue_display', 'tz_country', 'performers', 'title', 'venue_address', 'geocode_type',\n",
    "            'tz_olson_path', 'recur_string', 'calendars', 'owner', 'going', 'country_abbr2', 'image', 'created',\n",
    "            'venue_id', 'tz_city', 'stop_time', 'venue_name', 'venue_url'])"
   ]
  },
  {
   "cell_type": "code",
   "execution_count": null,
   "metadata": {
    "collapsed": true
   },
   "outputs": [],
   "source": [
    "df = pd.DataFrame(data.json()['events']['event'],columns=columns)\n",
    "df.head(5)"
   ]
  },
  {
   "cell_type": "markdown",
   "metadata": {},
   "source": [
    "# Extracting the Events Data"
   ]
  },
  {
   "cell_type": "markdown",
   "metadata": {},
   "source": [
    "Note: The columns have been extracted using the example url. Do not need to repeat process."
   ]
  },
  {
   "cell_type": "code",
   "execution_count": null,
   "metadata": {
    "collapsed": true
   },
   "outputs": [],
   "source": [
    "columns = (['watching_count', 'olson_path', 'calendar_count', 'comment_count', 'region_abbr', 'postal_code',\n",
    "            'going_count', 'all_day', 'latitude', 'groups', 'url', 'id', 'privacy', 'city_name', 'link_count',\n",
    "            'longitude', 'country_name', 'country_abbr', 'region_name', 'start_time', 'tz_id', 'description',\n",
    "            'modified', 'venue_display', 'tz_country', 'performers', 'title', 'venue_address', 'geocode_type',\n",
    "            'tz_olson_path', 'recur_string', 'calendars', 'owner', 'going', 'country_abbr2', 'image', 'created',\n",
    "            'venue_id', 'tz_city', 'stop_time', 'venue_name', 'venue_url'])"
   ]
  },
  {
   "cell_type": "markdown",
   "metadata": {},
   "source": [
    "Function to extract events' data using Pandas DataFrame"
   ]
  },
  {
   "cell_type": "code",
   "execution_count": null,
   "metadata": {
    "collapsed": true
   },
   "outputs": [],
   "source": [
    "# Uncomment the print statement to keep track of the page number.\n",
    "# Can be used to interrupt the function and restart from that point.\n",
    "\n",
    "def get_Events(date):\n",
    "    Events = pd.DataFrame(columns=columns)\n",
    "    page_number = 0\n",
    "    while(True):\n",
    "        try:\n",
    "            # print (page_number)\n",
    "            url = 'http://api.eventful.com/json/events/search?location=New+York&app_key=' + app_key + '&page_size=250&date=' + str(date) + '&page_number=' + str(page_number)\n",
    "            data = requests.get(url).json()['events']['event']\n",
    "            df = pd.DataFrame(data,columns=columns)\n",
    "            Events = Events.append(df,ignore_index=True)\n",
    "            if(df.shape[0]!=250):\n",
    "                break\n",
    "            page_number += 1\n",
    "        except:\n",
    "            break\n",
    "    return (Events)"
   ]
  },
  {
   "cell_type": "code",
   "execution_count": null,
   "metadata": {},
   "outputs": [],
   "source": [
    "# Date can be passed to the function to get the events for a particular time slot.\n",
    "# If 'past' is passed in the date parameter, all the past events can be downloaded.\n",
    "\n",
    "Events = get_Events('past')\n",
    "print (Events.shape)"
   ]
  },
  {
   "cell_type": "code",
   "execution_count": null,
   "metadata": {
    "collapsed": true
   },
   "outputs": [],
   "source": [
    "# Checking the Events' data\n",
    "Events.head(5)"
   ]
  },
  {
   "cell_type": "code",
   "execution_count": null,
   "metadata": {
    "collapsed": true
   },
   "outputs": [],
   "source": [
    "# Storing the data in mentioned file.\n",
    "Events.to_csv('NY_Events_Past.csv')"
   ]
  },
  {
   "cell_type": "code",
   "execution_count": null,
   "metadata": {
    "collapsed": true
   },
   "outputs": [],
   "source": []
  }
 ],
 "metadata": {
  "kernelspec": {
   "display_name": "Python 3",
   "language": "python",
   "name": "python3"
  },
  "language_info": {
   "codemirror_mode": {
    "name": "ipython",
    "version": 3
   },
   "file_extension": ".py",
   "mimetype": "text/x-python",
   "name": "python",
   "nbconvert_exporter": "python",
   "pygments_lexer": "ipython3",
   "version": "3.6.2"
  }
 },
 "nbformat": 4,
 "nbformat_minor": 2
}
