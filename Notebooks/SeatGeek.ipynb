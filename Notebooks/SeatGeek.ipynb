{
 "cells": [
  {
   "cell_type": "markdown",
   "metadata": {},
   "source": [
    "# Import Requirements"
   ]
  },
  {
   "cell_type": "code",
   "execution_count": null,
   "metadata": {
    "collapsed": true
   },
   "outputs": [],
   "source": [
    "import pandas as pd\n",
    "import requests\n",
    "import time"
   ]
  },
  {
   "cell_type": "markdown",
   "metadata": {},
   "source": [
    "# SeatGeek Credentials"
   ]
  },
  {
   "cell_type": "code",
   "execution_count": null,
   "metadata": {
    "collapsed": true
   },
   "outputs": [],
   "source": [
    "Client_ID = ''\n",
    "Secret = ''"
   ]
  },
  {
   "cell_type": "raw",
   "metadata": {},
   "source": [
    "Query to get the Events"
   ]
  },
  {
   "cell_type": "raw",
   "metadata": {
    "collapsed": true
   },
   "source": [
    "url = 'https://api.seatgeek.com/2/events?client_id=' + client_id + '&page=' + page_no"
   ]
  },
  {
   "cell_type": "raw",
   "metadata": {},
   "source": [
    "Query to get the Venues"
   ]
  },
  {
   "cell_type": "raw",
   "metadata": {
    "collapsed": true
   },
   "source": [
    "url = 'https://api.seatgeek.com/2/venues?client_id=' + client_id+ '&city=Las%20Vegas&page=1&per_page=1500'"
   ]
  },
  {
   "cell_type": "markdown",
   "metadata": {},
   "source": [
    "# Functions for Venues"
   ]
  },
  {
   "cell_type": "code",
   "execution_count": null,
   "metadata": {
    "collapsed": true
   },
   "outputs": [],
   "source": [
    "def get_latitude(x):\n",
    "    try:\n",
    "        latitude = x['lat']\n",
    "    except:\n",
    "        latitude = 0\n",
    "    return latitude"
   ]
  },
  {
   "cell_type": "code",
   "execution_count": null,
   "metadata": {
    "collapsed": true
   },
   "outputs": [],
   "source": [
    "def get_longitude(x):\n",
    "    try:\n",
    "        longitude = x['lon']\n",
    "    except:\n",
    "        longitude = 0\n",
    "    return longitude"
   ]
  },
  {
   "cell_type": "markdown",
   "metadata": {},
   "source": [
    "# Functions for events"
   ]
  },
  {
   "cell_type": "code",
   "execution_count": null,
   "metadata": {
    "collapsed": true
   },
   "outputs": [],
   "source": [
    "def get_address(x):\n",
    "    try:\n",
    "        address = x['address']\n",
    "    except:\n",
    "        address = 0\n",
    "    return address"
   ]
  },
  {
   "cell_type": "code",
   "execution_count": null,
   "metadata": {
    "collapsed": true
   },
   "outputs": [],
   "source": [
    "def get_city(x):\n",
    "    try:\n",
    "        city = x['city']\n",
    "    except:\n",
    "        city = 0\n",
    "    return city"
   ]
  },
  {
   "cell_type": "code",
   "execution_count": null,
   "metadata": {
    "collapsed": true
   },
   "outputs": [],
   "source": [
    "def get_country(x):\n",
    "    try:\n",
    "        country = x['country']\n",
    "    except:\n",
    "        country = 0\n",
    "    return country"
   ]
  },
  {
   "cell_type": "code",
   "execution_count": null,
   "metadata": {
    "collapsed": true
   },
   "outputs": [],
   "source": [
    "def get_display_location(x):\n",
    "    try:\n",
    "        display_location = x['display_location']\n",
    "    except:\n",
    "        display_location = 0\n",
    "    return display_location  "
   ]
  },
  {
   "cell_type": "code",
   "execution_count": null,
   "metadata": {
    "collapsed": true
   },
   "outputs": [],
   "source": [
    "def get_extended_address(x):\n",
    "    try:\n",
    "        extended_address = x['extended_address']\n",
    "    except:\n",
    "        extended_address = 0\n",
    "    return extended_address"
   ]
  },
  {
   "cell_type": "code",
   "execution_count": null,
   "metadata": {
    "collapsed": true
   },
   "outputs": [],
   "source": [
    "def get_Venue_id(x):\n",
    "    try:\n",
    "        Venue_id = x['id']\n",
    "    except:\n",
    "        Venue_id = 0\n",
    "    return Venue_id"
   ]
  },
  {
   "cell_type": "code",
   "execution_count": null,
   "metadata": {
    "collapsed": true
   },
   "outputs": [],
   "source": [
    "def get_lat(x):\n",
    "    try:\n",
    "        latitude = x['location']['lat']\n",
    "    except:\n",
    "        latitude = 0\n",
    "    return latitude"
   ]
  },
  {
   "cell_type": "code",
   "execution_count": null,
   "metadata": {
    "collapsed": true
   },
   "outputs": [],
   "source": [
    "def get_long(x):\n",
    "    try:\n",
    "        longitude = x['location']['lon']\n",
    "    except:\n",
    "        longitude = 0\n",
    "    return longitude"
   ]
  },
  {
   "cell_type": "code",
   "execution_count": null,
   "metadata": {
    "collapsed": true
   },
   "outputs": [],
   "source": [
    "def get_Venue_name(x):\n",
    "    try:\n",
    "        Venue_name = x['name_v2']\n",
    "    except:\n",
    "        Venue_name = 0\n",
    "    return Venue_name"
   ]
  },
  {
   "cell_type": "code",
   "execution_count": null,
   "metadata": {
    "collapsed": true
   },
   "outputs": [],
   "source": [
    "def get_postal_code(x):\n",
    "    try:\n",
    "        postal_code = x['postal_code']\n",
    "    except:\n",
    "        postal_code = 0\n",
    "    return postal_code"
   ]
  },
  {
   "cell_type": "code",
   "execution_count": null,
   "metadata": {
    "collapsed": true
   },
   "outputs": [],
   "source": [
    "def get_state(x):\n",
    "    try:\n",
    "        state = x['state']\n",
    "    except:\n",
    "        state = 0\n",
    "    return state"
   ]
  },
  {
   "cell_type": "code",
   "execution_count": null,
   "metadata": {
    "collapsed": true
   },
   "outputs": [],
   "source": [
    "def get_timezone(x):\n",
    "    try:\n",
    "        timezone = x['timezone']\n",
    "    except:\n",
    "        timezone = 0\n",
    "    return timezone"
   ]
  },
  {
   "cell_type": "markdown",
   "metadata": {
    "collapsed": true
   },
   "source": [
    "# Getting all the Venues in Las Vegas"
   ]
  },
  {
   "cell_type": "code",
   "execution_count": null,
   "metadata": {
    "collapsed": true
   },
   "outputs": [],
   "source": [
    "url = 'https://api.seatgeek.com/2/venues?client_id=' + client_id + '&city=Las%20Vegas&page=1&per_page=1500'"
   ]
  },
  {
   "cell_type": "code",
   "execution_count": null,
   "metadata": {},
   "outputs": [],
   "source": [
    "response = requests.get(url)\n",
    "venues = response.json().get('venues')"
   ]
  },
  {
   "cell_type": "code",
   "execution_count": null,
   "metadata": {},
   "outputs": [],
   "source": [
    "venues"
   ]
  },
  {
   "cell_type": "code",
   "execution_count": null,
   "metadata": {},
   "outputs": [],
   "source": [
    "df = pd.DataFrame(venues)"
   ]
  },
  {
   "cell_type": "code",
   "execution_count": null,
   "metadata": {},
   "outputs": [],
   "source": [
    "df.head()"
   ]
  },
  {
   "cell_type": "code",
   "execution_count": null,
   "metadata": {
    "collapsed": true
   },
   "outputs": [],
   "source": [
    "df['latitude'] = df['location'].apply(lambda x: get_latitude(x))\n",
    "df['longitude'] = df['location'].apply(lambda x: get_longitude(x))"
   ]
  },
  {
   "cell_type": "code",
   "execution_count": null,
   "metadata": {},
   "outputs": [],
   "source": [
    "df.head()"
   ]
  },
  {
   "cell_type": "code",
   "execution_count": null,
   "metadata": {
    "collapsed": true
   },
   "outputs": [],
   "source": [
    "df.to_csv('LV_Venues.csv')"
   ]
  },
  {
   "cell_type": "markdown",
   "metadata": {},
   "source": [
    "# Getting all New York Venues"
   ]
  },
  {
   "cell_type": "code",
   "execution_count": null,
   "metadata": {
    "collapsed": true
   },
   "outputs": [],
   "source": [
    "url = 'https://api.seatgeek.com/2/venues?client_id=' + client_id + 'city=New%20York&page=1&per_page=3700'"
   ]
  },
  {
   "cell_type": "code",
   "execution_count": null,
   "metadata": {
    "collapsed": true
   },
   "outputs": [],
   "source": [
    "response = requests.get(url)\n",
    "venues = response.json().get('venues')"
   ]
  },
  {
   "cell_type": "code",
   "execution_count": null,
   "metadata": {
    "collapsed": true
   },
   "outputs": [],
   "source": [
    "df = pd.DataFrame(venues)"
   ]
  },
  {
   "cell_type": "code",
   "execution_count": null,
   "metadata": {
    "collapsed": true
   },
   "outputs": [],
   "source": [
    "df['latitude'] = df['location'].apply(lambda x: get_latitude(x))\n",
    "df['longitude'] = df['location'].apply(lambda x: get_longitude(x))"
   ]
  },
  {
   "cell_type": "code",
   "execution_count": null,
   "metadata": {
    "collapsed": true
   },
   "outputs": [],
   "source": [
    "df.to_csv('NY_Venues.csv')"
   ]
  },
  {
   "cell_type": "markdown",
   "metadata": {},
   "source": [
    "# Getting all the Venues in Hamburg"
   ]
  },
  {
   "cell_type": "code",
   "execution_count": null,
   "metadata": {
    "collapsed": true
   },
   "outputs": [],
   "source": [
    "url = 'https://api.seatgeek.com/2/venues?client_id=' + client_id + '&city=Hamburg&page=1&per_page=1000'"
   ]
  },
  {
   "cell_type": "code",
   "execution_count": null,
   "metadata": {
    "collapsed": true
   },
   "outputs": [],
   "source": [
    "response = requests.get(url)\n",
    "venues = response.json().get('venues')"
   ]
  },
  {
   "cell_type": "code",
   "execution_count": null,
   "metadata": {
    "collapsed": true
   },
   "outputs": [],
   "source": [
    "df = pd.DataFrame(venues)"
   ]
  },
  {
   "cell_type": "code",
   "execution_count": null,
   "metadata": {
    "collapsed": true
   },
   "outputs": [],
   "source": [
    "df['latitude'] = df['location'].apply(lambda x: get_latitude(x))\n",
    "df['longitude'] = df['location'].apply(lambda x: get_longitude(x))"
   ]
  },
  {
   "cell_type": "code",
   "execution_count": null,
   "metadata": {
    "collapsed": true
   },
   "outputs": [],
   "source": [
    "df.to_csv('Hamburg_Venues.csv')"
   ]
  },
  {
   "cell_type": "markdown",
   "metadata": {
    "collapsed": true
   },
   "source": [
    "# Getting all the Venues of SeatGeek"
   ]
  },
  {
   "cell_type": "code",
   "execution_count": null,
   "metadata": {},
   "outputs": [],
   "source": [
    "page = 1\n",
    "Venues = pd.DataFrame()\n",
    "while(1):\n",
    "    try:\n",
    "        time.sleep(1)\n",
    "        url = ('https://api.seatgeek.com/2/venues?client_id=' + client_id + '&per_page=1000&page=' + (str)(page))\n",
    "        response = requests.get(url)\n",
    "        venues = response.json().get('venues')\n",
    "        df = pd.DataFrame(venues)\n",
    "        df['latitude'] = df['location'].apply(lambda x: get_latitude(x))\n",
    "        df['longitude'] = df['location'].apply(lambda x: get_longitude(x))\n",
    "        try:\n",
    "            Venues = Venues.append(df,ignore_index = True)\n",
    "        except:\n",
    "            print ('Error appending the venues for page number ',page)\n",
    "        page = page + 1\n",
    "    except:\n",
    "        print ('Exited the loop at page number ',page)\n",
    "        break"
   ]
  },
  {
   "cell_type": "code",
   "execution_count": null,
   "metadata": {},
   "outputs": [],
   "source": [
    "Venues.shape"
   ]
  },
  {
   "cell_type": "code",
   "execution_count": null,
   "metadata": {
    "collapsed": true
   },
   "outputs": [],
   "source": [
    "Venues.to_csv('SeatGeek_Venues.csv')"
   ]
  },
  {
   "cell_type": "markdown",
   "metadata": {
    "collapsed": true
   },
   "source": [
    "# Getting all the SeatGeek Events"
   ]
  },
  {
   "cell_type": "code",
   "execution_count": null,
   "metadata": {},
   "outputs": [],
   "source": [
    "page = 1\n",
    "Events = pd.DataFrame()\n",
    "while(1):\n",
    "    try:\n",
    "        url = ('https://api.seatgeek.com/2/events?client_id=' + client_id + '&per_page=1000&page=' + (str)(page))\n",
    "        response = requests.get(url)\n",
    "        events = response.json().get('events')\n",
    "        df = pd.DataFrame(events)\n",
    "        try:\n",
    "            df['address'] = df['venue'].apply(lambda x: get_address(x))\n",
    "        except:\n",
    "            print ('Could not get address for an event on page number ',page)\n",
    "        try:\n",
    "            df['city'] = df['venue'].apply(lambda x: get_city(x))\n",
    "        except:\n",
    "            print ('Could not get city for an event on page number ',page)\n",
    "        try:\n",
    "            df['country'] = df['venue'].apply(lambda x: get_country(x))\n",
    "        except:\n",
    "            print ('Could not get country for an event on page number ',page)\n",
    "        try:\n",
    "            df['display_location'] = df['venue'].apply(lambda x: get_display_location(x))\n",
    "        except:\n",
    "            print ('Could not get Display Location for an event on page number ',page)\n",
    "        try:\n",
    "            df['extended_address'] = df['venue'].apply(lambda x: get_extended_address(x))\n",
    "        except:\n",
    "            print ('Could not get Extended address for an event on page number ',page)\n",
    "        try:\n",
    "            df['Venue_id'] = df['venue'].apply(lambda x: get_Venue_id(x))\n",
    "        except:\n",
    "            print ('Could not get Venue id for an event on page number ',page)\n",
    "        try:\n",
    "            df['latitude'] = df['venue'].apply(lambda x: get_lat(x))\n",
    "        except:\n",
    "            print ('Could not get Latitude for an event on page number ',page)\n",
    "        try:\n",
    "            df['longitude'] = df['venue'].apply(lambda x: get_long(x))\n",
    "        except:\n",
    "            print ('Could not get Longitude for an event on page number ',page)\n",
    "        try:\n",
    "            df['Venue_name'] = df['venue'].apply(lambda x: get_Venue_name(x))\n",
    "        except:\n",
    "            print ('Could not get Venue Name for an event on page number ',page)\n",
    "        try:\n",
    "            df['postal_code'] = df['venue'].apply(lambda x: get_postal_code(x))\n",
    "        except:\n",
    "            print ('Could not get Postal Code for an event on page number ',page)\n",
    "        try:\n",
    "            df['state'] = df['venue'].apply(lambda x: get_state(x))\n",
    "        except:\n",
    "            print ('Could not get state for an event on page number ',page)\n",
    "        try:\n",
    "            df['timezone'] = df['venue'].apply(lambda x: get_timezone(x))\n",
    "        except:\n",
    "            print ('Could not get timezone for an event on page number ',page)\n",
    "        try:\n",
    "            Events = Events.append(df,ignore_index = True)\n",
    "        except:\n",
    "            print ('Error appending the events for page number ',page)\n",
    "        page = page + 1\n",
    "    except:\n",
    "        print ('Exited the loop at page number ',page)\n",
    "        break"
   ]
  },
  {
   "cell_type": "code",
   "execution_count": null,
   "metadata": {},
   "outputs": [],
   "source": [
    "Events.shape"
   ]
  },
  {
   "cell_type": "code",
   "execution_count": null,
   "metadata": {
    "collapsed": true
   },
   "outputs": [],
   "source": [
    "Events.to_csv('SeatGeek_Events.csv')"
   ]
  },
  {
   "cell_type": "code",
   "execution_count": null,
   "metadata": {
    "collapsed": true
   },
   "outputs": [],
   "source": []
  }
 ],
 "metadata": {
  "kernelspec": {
   "display_name": "Python 3",
   "language": "python",
   "name": "python3"
  },
  "language_info": {
   "codemirror_mode": {
    "name": "ipython",
    "version": 3
   },
   "file_extension": ".py",
   "mimetype": "text/x-python",
   "name": "python",
   "nbconvert_exporter": "python",
   "pygments_lexer": "ipython3",
   "version": "3.6.2"
  }
 },
 "nbformat": 4,
 "nbformat_minor": 2
}
