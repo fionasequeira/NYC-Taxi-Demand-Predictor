{
 "cells": [
  {
   "cell_type": "code",
   "execution_count": null,
   "metadata": {
    "collapsed": true
   },
   "outputs": [],
   "source": [
    "import pandas as pd\n",
    "import numpy as np\n",
    "import requests\n",
    "from bs4 import BeautifulSoup\n",
    "import datetime\n",
    "from datetime import date,timedelta\n",
    "\n",
    "# Web scraping preferred over api because of the low rate limits provided by the APIs.\n",
    "#import weather\n",
    "#from weather import Weather\n",
    "#weather = Weather()"
   ]
  },
  {
   "cell_type": "markdown",
   "metadata": {},
   "source": [
    "# List of New York Locations in the site"
   ]
  },
  {
   "cell_type": "code",
   "execution_count": null,
   "metadata": {
    "collapsed": true
   },
   "outputs": [],
   "source": [
    "# Locations in New York. Used for finding out all the weather stations' locations. Same approach has to be applied\n",
    "# for any new location.\n",
    "\n",
    "locations = ['Albany, New York', 'Alplaus, New York', 'Angus, New York', 'Binghamton, New York', 'Buffalo, New York', \n",
    "             'Dansville, New York', 'Ditch Plains, New York', 'Doolins Crossing, New York', 'Dunkirk, New York', \n",
    "             'Elmira, New York', 'Farmingdale, New York', 'Fulton, New York', 'Glens Falls, New York', 'Islip, New York', \n",
    "             'Ithaca, New York', 'Jamestown, New York', 'Massena, New York', 'Montgomery, New York', 'Monticello, New York', \n",
    "             'New York, New York', 'Newburgh, New York', 'Niagara Falls, New York', 'Ogdensburg, New York', \n",
    "             'Plattsburgh, New York', 'Poughkeepsie, New York', 'Rochester, New York', 'Saranac Lake, New York', \n",
    "             'Shirley, New York', 'Syracuse, New York', 'Utica, New York', 'Watertown, New York', 'Wellsville, New York', \n",
    "             'Westhampton, New York', 'White Plains, New York']\n",
    "\n",
    "places = ['KLGA','KJFK','KJRB','KNYC']"
   ]
  },
  {
   "cell_type": "markdown",
   "metadata": {},
   "source": [
    "# Generate the Dates"
   ]
  },
  {
   "cell_type": "markdown",
   "metadata": {},
   "source": [
    "Note: Temporary fix by directly uncommenting the d1 and d2. For more general use, pass the dates to function."
   ]
  },
  {
   "cell_type": "code",
   "execution_count": null,
   "metadata": {
    "collapsed": true
   },
   "outputs": [],
   "source": [
    "def Generate_Dates(d1,d2):\n",
    "    #d1 = date(2008,8,15)\n",
    "    #d2 = date(2008,9,15)\n",
    "    \n",
    "    # List containing all of the dates\n",
    "    dd = [d1 + timedelta(days=x) for x in range((d2-d1).days + 1)]\n",
    "    \n",
    "    Dates = []\n",
    "    for d in dd:\n",
    "        Dates.append((str(d)).replace('-','/'))\n",
    "        \n",
    "    return (Dates)"
   ]
  },
  {
   "cell_type": "markdown",
   "metadata": {},
   "source": [
    "# Creating a function to get the Weather"
   ]
  },
  {
   "cell_type": "markdown",
   "metadata": {},
   "source": [
    "Function to get the weather of a single location for a single day. Saved in a automatically generated file."
   ]
  },
  {
   "cell_type": "code",
   "execution_count": null,
   "metadata": {
    "collapsed": true
   },
   "outputs": [],
   "source": [
    "def Get_Weather(place,date):\n",
    "    # Create the url from the place and time\n",
    "    url = 'https://www.wunderground.com/history/airport/' + place + '/' + date + '/DailyHistory.html?req_city=' + place + '&req_statename=New%20York'\n",
    "    \n",
    "    # Scrape the HTML at the url\n",
    "    r = requests.get(url)\n",
    "\n",
    "    # Turn the HTML into a Beautiful Soup object\n",
    "    soup = BeautifulSoup(r.text, 'lxml')\n",
    "    \n",
    "    # Extract the table contents\n",
    "    data = []\n",
    "    table = soup.find('table',attrs = {'class':'obs-table responsive'})\n",
    "    table_body = table.find('tbody')\n",
    "    rows = table_body.findAll('tr')\n",
    "    for row in rows:\n",
    "        cols = row.findAll('td')\n",
    "        cols = [ele.text.strip() for ele in cols]\n",
    "        data.append(cols)\n",
    "        \n",
    "    # Transfer data to DataFrame\n",
    "    if (len(cols)==12):\n",
    "        df = pd.DataFrame(data,columns=['Time_EDT','Temp','Dew_Point','Humidity','Pressure','Visibility','Wind_Dir',\n",
    "                                        'Wind_Speed','Gust_Speed','Precip','Events','Conditions'])\n",
    "    elif (len(cols)==13):\n",
    "        df = pd.DataFrame(data,columns=['Time_EDT','Temp','Windchill','Dew_Point','Humidity','Pressure','Visibility',\n",
    "                                        'Wind_Dir','Wind_Speed','Gust_Speed','Precip','Events','Conditions'])\n",
    "    else:\n",
    "        df = pd.DataFrame(data)\n",
    "        print (\"Size is different. Please check the table\")\n",
    "        \n",
    "    # Adding date and place to the Dataframe\n",
    "    Location = []\n",
    "    Date = []\n",
    "    for i in range(df.shape[0]):\n",
    "        Location.append(place)\n",
    "        Date.append(date)\n",
    "    df['Location'] = Location\n",
    "    df['Date'] = Date\n",
    "    \n",
    "    # Transfer to file\n",
    "    df.to_csv(('Weather_' + place + '_' + (date.replace('/','-')) + '.csv'))\n",
    "    \n",
    "    return"
   ]
  },
  {
   "cell_type": "markdown",
   "metadata": {
    "scrolled": true
   },
   "source": [
    "# Generate the Weather Data"
   ]
  },
  {
   "cell_type": "markdown",
   "metadata": {},
   "source": [
    "Note: Function generates weather files for the year. Remove the dates generation part by the above defined Generate_Dates() function to get more flexibility with dates."
   ]
  },
  {
   "cell_type": "code",
   "execution_count": null,
   "metadata": {
    "collapsed": true
   },
   "outputs": [],
   "source": [
    "def Generate_Data(year):\n",
    "    # Needed to generate dates\n",
    "    from datetime import date,timedelta\n",
    "    \n",
    "    # Define the start and end dates\n",
    "    d1 = date(year,1,1)\n",
    "    d2 = date(year,12,31)\n",
    "    \n",
    "    # List containing all of the dates\n",
    "    dd = [d1 + timedelta(days=x) for x in range((d2-d1).days + 1)]\n",
    "    \n",
    "    Dates = []\n",
    "    for d in dd:\n",
    "        Dates.append((str(d)).replace('-','/'))\n",
    "        \n",
    "    # List of all the places\n",
    "    places = ['KLGA','KJFK','KJRB','KNYC']\n",
    "    \n",
    "    for date in Dates:\n",
    "        for place in places:\n",
    "            try:\n",
    "                Get_Weather(place,date)\n",
    "                time.sleep(1)\n",
    "            except:\n",
    "                pass"
   ]
  },
  {
   "cell_type": "code",
   "execution_count": null,
   "metadata": {
    "collapsed": true
   },
   "outputs": [],
   "source": [
    "# To generate data for multiple year, replace by starting year and ending year+1.\n",
    "for year in range(1997,2007):\n",
    "    Generate_Data(year)"
   ]
  },
  {
   "cell_type": "code",
   "execution_count": null,
   "metadata": {
    "collapsed": true
   },
   "outputs": [],
   "source": [
    "# For a single year of data, replace by the year.\n",
    "Generate_Data(2017)"
   ]
  },
  {
   "cell_type": "code",
   "execution_count": null,
   "metadata": {
    "collapsed": true
   },
   "outputs": [],
   "source": []
  }
 ],
 "metadata": {
  "kernelspec": {
   "display_name": "Python 3",
   "language": "python",
   "name": "python3"
  },
  "language_info": {
   "codemirror_mode": {
    "name": "ipython",
    "version": 3
   },
   "file_extension": ".py",
   "mimetype": "text/x-python",
   "name": "python",
   "nbconvert_exporter": "python",
   "pygments_lexer": "ipython3",
   "version": "3.6.2"
  }
 },
 "nbformat": 4,
 "nbformat_minor": 2
}
