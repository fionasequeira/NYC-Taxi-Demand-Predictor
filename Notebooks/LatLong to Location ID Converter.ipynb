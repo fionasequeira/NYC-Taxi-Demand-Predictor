{
 "cells": [
  {
   "cell_type": "code",
   "execution_count": 4,
   "metadata": {
    "collapsed": true
   },
   "outputs": [],
   "source": [
    "import numpy as np\n",
    "import time\n",
    "from lxml import html\n",
    "from bs4 import BeautifulSoup\n",
    "import re\n",
    "from opencage.geocoder import OpenCageGeocode\n",
    "import csv\n",
    "import pandas as pd\n",
    "\n",
    "# My free key. Current rate limit 2500 per day.\n",
    "key = '5702029dee874f0384ce93b7a21f0261'\n",
    "\n",
    "# Authenticating OpenGeocode\n",
    "geocoder = OpenCageGeocode(key)\n",
    "\n",
    "df_taxi = pd.read_csv(\"taxi+_zone_lookup.csv\")\n",
    "df_taxi['Address'] = df_taxi['Zone'] + ', ' + df_taxi['Borough']\n",
    "df_taxi['Latitude'] = 0\n",
    "df_taxi['Longitude'] = 0\n",
    "\n",
    "# for row in enumerate(df_taxi.values):\n",
    "for index,row in df_taxi.iterrows():\n",
    "    try:\n",
    "        result = geocoder.geocode(row['Address'])\n",
    "        df_taxi.loc[index,'Latitude'] = result[0]['geometry']['lat']\n",
    "        df_taxi.loc[index,'Longitude'] = result[0]['geometry']['lng']\n",
    "    except:\n",
    "        pass\n",
    "df_taxi.to_csv('LatLngData1.csv') "
   ]
  }
 ],
 "metadata": {
  "kernelspec": {
   "display_name": "Python 2",
   "language": "python",
   "name": "python2"
  },
  "language_info": {
   "codemirror_mode": {
    "name": "ipython",
    "version": 2
   },
   "file_extension": ".py",
   "mimetype": "text/x-python",
   "name": "python",
   "nbconvert_exporter": "python",
   "pygments_lexer": "ipython2",
   "version": "2.7.14"
  }
 },
 "nbformat": 4,
 "nbformat_minor": 2
}
