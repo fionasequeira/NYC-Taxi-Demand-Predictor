{
 "cells": [
  {
   "cell_type": "code",
   "execution_count": 1,
   "metadata": {
    "collapsed": false
   },
   "outputs": [],
   "source": [
    "import pandas as pd\n",
    "import json\n",
    "\n",
    "df = pd.DataFrame(pd.read_csv(\"July2016.csv\"))\n",
    "df2= pd.DataFrame(pd.read_csv(\"Aug2016.csv\"))\n",
    "df3 = pd.DataFrame(pd.read_csv(\"Sep2016.csv\"))\n",
    "df4 = pd.DataFrame(pd.read_csv(\"Oct2016.csv\"))\n",
    "df5 = pd.DataFrame(pd.read_csv(\"Nov2016.csv\"))\n"
   ]
  },
  {
   "cell_type": "code",
   "execution_count": null,
   "metadata": {
    "collapsed": true
   },
   "outputs": [],
   "source": [
    "df = pd.concat([df, df2], axis=0, ignore_index=True)\n",
    "df = pd.concat([df, df3], axis=0, ignore_index=True)\n",
    "df = pd.concat([df, df4], axis=0, ignore_index=True)\n",
    "df = pd.concat([df, df5], axis=0, ignore_index=True)"
   ]
  },
  {
   "cell_type": "code",
   "execution_count": null,
   "metadata": {
    "collapsed": false
   },
   "outputs": [],
   "source": [
    "df.head(1)"
   ]
  },
  {
   "cell_type": "code",
   "execution_count": null,
   "metadata": {
    "collapsed": false
   },
   "outputs": [],
   "source": [
    "import pandas as pd\n",
    "import json\n",
    "\n",
    "df = pd.DataFrame(pd.read_csv(\"CabDataWithLatLong.csv\"))\n",
    "df.head(2)"
   ]
  },
  {
   "cell_type": "code",
   "execution_count": null,
   "metadata": {
    "collapsed": false
   },
   "outputs": [],
   "source": [
    "# for col in cols2:\n",
    "#     df[col] = df['performers'].apply(lambda x: extract(x,col))\n",
    "    \n",
    "for i in range(len(df)):\n",
    "    df['DayMonth']=df.apply(f,axis=1)"
   ]
  },
  {
   "cell_type": "code",
   "execution_count": 6,
   "metadata": {
    "collapsed": true
   },
   "outputs": [],
   "source": [
    "def f(x):\n",
    "    return x[1],x[2]"
   ]
  },
  {
   "cell_type": "code",
   "execution_count": null,
   "metadata": {
    "collapsed": false
   },
   "outputs": [],
   "source": [
    "latlong = pd.DataFrame(pd.read_csv(\"LatLngData1.csv\"))\n",
    "Lat1 = dict()\n",
    "for i in range(len(latlong)):\n",
    "    Lat1[latlong['LocationID'][i]] = [latlong['Latitude'][i],latlong['Longitude'][i]]\n",
    "lat = []\n",
    "lon = []\n",
    "for i in range(len(df)):\n",
    "    if df['LocationID'][i] in Lat1:\n",
    "        lat.append(Lat1[df['LocationID'][i]][0])\n",
    "        lon.append(Lat1[df['LocationID'][i]][1])"
   ]
  },
  {
   "cell_type": "code",
   "execution_count": null,
   "metadata": {
    "collapsed": false
   },
   "outputs": [],
   "source": [
    "df[\"latitude\"]= pd.Series(lat)\n",
    "df[\"longitude\"]= pd.Series(lon)"
   ]
  },
  {
   "cell_type": "code",
   "execution_count": null,
   "metadata": {
    "collapsed": false
   },
   "outputs": [],
   "source": [
    "df.to_csv(\"CabDataWithLatLong.csv\")"
   ]
  },
  {
   "cell_type": "code",
   "execution_count": null,
   "metadata": {
    "collapsed": false
   },
   "outputs": [],
   "source": [
    "import datetime\n",
    "data = df\n",
    "data['Weekday'] = data['Month']\n",
    "for i in range(data.shape[0]):\n",
    "    data['Weekday'][i] = datetime.datetime(2017,data['Month'][i],data['DayofMonth'][i]).weekday()"
   ]
  },
  {
   "cell_type": "code",
   "execution_count": null,
   "metadata": {
    "collapsed": false
   },
   "outputs": [],
   "source": []
  },
  {
   "cell_type": "code",
   "execution_count": null,
   "metadata": {
    "collapsed": true
   },
   "outputs": [],
   "source": []
  }
 ],
 "metadata": {
  "kernelspec": {
   "display_name": "Python 2",
   "language": "python",
   "name": "python2"
  },
  "language_info": {
   "codemirror_mode": {
    "name": "ipython",
    "version": 2
   },
   "file_extension": ".py",
   "mimetype": "text/x-python",
   "name": "python",
   "nbconvert_exporter": "python",
   "pygments_lexer": "ipython2",
   "version": "2.7.13"
  }
 },
 "nbformat": 4,
 "nbformat_minor": 2
}
